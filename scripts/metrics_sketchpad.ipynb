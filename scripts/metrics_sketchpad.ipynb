{
 "cells": [
  {
   "cell_type": "code",
   "execution_count": 1,
   "metadata": {},
   "source": [
    "# Create config column\n",
    "import pandas as pd\n",
    "df_by_config = pd.read_pickle('../output/df_metrics')\n",
    "df_by_config['config'] = df_by_config[\"in_len\"].astype(str) + '_' + df_by_config[\"out_len\"].astype(str)\n",
    "df_by_config.drop(columns=['in_len','out_len','iteration'])\n",
    "df_by_config = df_by_config.groupby(['model','checkpoint','config']).mean().reset_index()\n",
    "df_by_config.head()"
   ],
   "outputs": [
    {
     "data": {
      "text/plain": [
       "             model                                     checkpoint config  \\\n0       melody_rnn                                  attention_rnn    1_1   \n1       melody_rnn                                      basic_rnn    1_1   \n2       melody_rnn                                   lookback_rnn    1_1   \n3       melody_rnn                                       mono_rnn    1_1   \n4  performance_rnn  density_conditioned_performance_with_dynamics    1_1   \n\n   iteration        time  in_len  out_len  bar_pitch_class_histogram_kl_div  \\\n0          1   45.081079       1        1                          0.883171   \n1          1   64.063910       1        1                          0.883171   \n2          1   64.356445       1        1                          0.883171   \n3          1  106.742966       1        1                          0.883171   \n4          1   10.111051       1        1                          0.608409   \n\n   bar_pitch_class_histogram_overlap  bar_used_pitch_kl_div  ...  \\\n0                           0.715157               0.069024  ...   \n1                           0.715157               0.069024  ...   \n2                           0.715157               0.069024  ...   \n3                           0.715157               0.069024  ...   \n4                           0.782532               0.051611  ...   \n\n   bar_used_note_kl_div  bar_used_note_overlap  avg_pitch_shift_kl_div  \\\n0              0.038598               0.084451                0.074578   \n1              0.038598               0.084451                0.074578   \n2              0.038598               0.084451                0.074578   \n3              0.038598               0.084451                0.074578   \n4              0.076715               0.633553                0.023864   \n\n   avg_pitch_shift_overlap  pitch_range_kl_div  pitch_range_overlap  \\\n0                 0.000063            0.073134             0.681115   \n1                 0.000063            0.073134             0.681115   \n2                 0.000063            0.073134             0.681115   \n3                 0.000063            0.073134             0.681115   \n4                 0.806670            0.059692             0.681182   \n\n   total_pitch_class_histogram_kl_div  total_pitch_class_histogram_overlap  \\\n0                            0.133238                             0.669471   \n1                            0.133238                             0.669471   \n2                            0.133238                             0.669471   \n3                            0.133238                             0.669471   \n4                            0.206928                             0.765231   \n\n   note_length_hist_kl_div  note_length_hist_overlap  \n0                 0.419496                  0.261777  \n1                 0.419496                  0.261777  \n2                 0.419496                  0.261777  \n3                 0.419496                  0.261777  \n4                 0.098971                  0.757978  \n\n[5 rows x 31 columns]"
      ]
     },
     "execution_count": 1,
     "metadata": {},
     "output_type": "execute_result"
    }
   ]
  },
  {
   "cell_type": "code",
   "execution_count": 2,
   "metadata": {},
   "source": [
    "# Get Subset DFs\n",
    "col_metrics = df_by_config.columns\n",
    "col_kl_divs  = [x for x in col_metrics if x.endswith('kl_div')]\n",
    "col_overlaps = [x for x in col_metrics if x.endswith('overlap')]\n",
    "\n",
    "# Calculate KL Divs mean and std per model config\n",
    "loc_kldivs = df_by_config[['model'] + col_kl_divs].loc[: , \"bar_pitch_class_histogram_kl_div\":\"note_length_hist_kl_div\"]\n",
    "df_by_config['kl_mean'] = loc_kldivs.mean(axis=1)\n",
    "df_by_config['kl_std'] = loc_kldivs.std(axis=1)\n",
    "loc_overlaps = df_by_config[['model'] + col_overlaps].loc[: , \"bar_pitch_class_histogram_overlap\":\"note_length_hist_overlap\"]\n",
    "df_by_config['overlap_mean'] = loc_overlaps.mean(axis=1)\n",
    "df_by_config['overlap_std'] = loc_overlaps.std(axis=1)\n",
    "df_mean_metrics = df_by_config[['model','checkpoint','config','overlap_mean','overlap_std','kl_mean','kl_std']].copy()\n",
    "\n",
    "\n",
    "# Print\n",
    "print(df_mean_metrics)"
   ],
   "outputs": [
    {
     "name": "stdout",
     "output_type": "stream",
     "text": [
      "                 model                                     checkpoint config  \\\n0           melody_rnn                                  attention_rnn    1_1   \n1           melody_rnn                                      basic_rnn    1_1   \n2           melody_rnn                                   lookback_rnn    1_1   \n3           melody_rnn                                       mono_rnn    1_1   \n4      performance_rnn  density_conditioned_performance_with_dynamics    1_1   \n5      performance_rnn     multiconditioned_performance_with_dynamics    1_1   \n6      performance_rnn                      performance_with_dynamics    1_1   \n7      performance_rnn  performance_with_dynamics_and_modulo_encoding    1_1   \n8      performance_rnn    pitch_conditioned_performance_with_dynamics    1_1   \n9   pianoroll_rnn_nade                                  rnn-nade_attn    1_1   \n10       polyphony_rnn                                  polyphony_rnn    1_1   \n11             rl_duet                                        rl_duet    1_1   \n\n    overlap_mean  overlap_std   kl_mean    kl_std  \n0       0.407962     0.269273  0.198837  0.237318  \n1       0.407962     0.269273  0.198837  0.237318  \n2       0.407962     0.269273  0.198837  0.237318  \n3       0.407962     0.269273  0.198837  0.237318  \n4       0.531119     0.322589  0.213528  0.176577  \n5       0.531119     0.322589  0.213528  0.176577  \n6       0.531119     0.322589  0.213528  0.176577  \n7       0.531119     0.322589  0.213528  0.176577  \n8       0.531119     0.322589  0.213528  0.176577  \n9       0.377937     0.318147  0.183730  0.188857  \n10      0.641416     0.161293  0.105782  0.143014  \n11      0.523754     0.279844  0.091433  0.115132  \n"
     ]
    }
   ]
  },
  {
   "cell_type": "code",
   "execution_count": 3,
   "metadata": {},
   "source": [
    "import matplotlib.pyplot as plt\n",
    "import seaborn as sns\n",
    "plt.figure()\n",
    "mdf = df_mean_metrics.copy()\n",
    "# mdf['index_name'] = mdf['model'].astype(str) + '_' + mdf['checkpoint'].astype(str) + '_' + mdf['config'].astype(str)\n",
    "# mdf.drop(columns=['model', 'checkpoint', 'config'])\n",
    "\n",
    "# mdf = pd.pivot_table(mdf, values=['overlap_mean','overlap_std','kl_mean','kl_std'], index=['index_name'], columns=['overlap_mean','overlap_std','kl_mean','kl_std'])\n",
    "mdf = pd.pivot_table(mdf, values=['overlap_mean','overlap_std','kl_mean','kl_std'], index=['config'], columns=['model'])\n",
    "\n",
    "sns.heatmap(mdf, cmap='RdYlGn_r', linewidths=0.5, annot=True)\n",
    "plt.savefig('test.png')\n",
    "plt.show()"
   ],
   "outputs": [
    {
     "data": {
      "text/plain": [
       "<Figure size 432x288 with 2 Axes>"
      ]
     },
     "execution_count": 3,
     "metadata": {},
     "output_type": "display_data"
    }
   ]
  },
  {
   "cell_type": "code",
   "execution_count": 5,
   "metadata": {},
   "source": [
    "print(df_mean_metrics['config'].unique())"
   ],
   "outputs": [
    {
     "data": {
      "text/plain": [
       "array(['1_1'], dtype=object)"
      ]
     },
     "execution_count": 5,
     "metadata": {},
     "output_type": "execute_result"
    }
   ]
  }
 ],
 "metadata": {
  "kernelspec": {
   "display_name": "Python 3",
   "language": "python",
   "name": "python3"
  },
  "language_info": {
   "file_extension": ".py",
   "mimetype": "text/x-python",
   "name": "python",
   "version": "3.9.2"
  }
 },
 "nbformat": 4,
 "nbformat_minor": 4
}
